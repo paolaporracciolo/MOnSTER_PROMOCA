{
 "cells": [
  {
   "cell_type": "raw",
   "id": "21a11beb",
   "metadata": {},
   "source": [
    "Standard Scaling"
   ]
  },
  {
   "cell_type": "code",
   "execution_count": 1,
   "id": "75ecf0c5",
   "metadata": {},
   "outputs": [
    {
     "name": "stderr",
     "output_type": "stream",
     "text": [
      "Fontconfig warning: ignoring UTF-8: not a valid region tag\n"
     ]
    }
   ],
   "source": [
    "import pandas as pd\n",
    "pd.set_option('display.max_columns', None)\n",
    "import sys\n",
    "import os\n",
    "from sklearn.preprocessing import StandardScaler, MinMaxScaler, RobustScaler\n",
    "import scipy.cluster.hierarchy as shc\n",
    "from scipy.cluster.hierarchy import cut_tree\n",
    "import numpy as np\n",
    "import matplotlib.pyplot as plt\n",
    "from sklearn.metrics import davies_bouldin_score\n",
    "from scipy import signal\n",
    "import logomaker as lm\n",
    "\n",
    "%load_ext autoreload\n",
    "%autoreload 2"
   ]
  },
  {
   "cell_type": "markdown",
   "id": "daf51617",
   "metadata": {},
   "source": [
    "# Import data"
   ]
  },
  {
   "cell_type": "code",
   "execution_count": 2,
   "id": "b9051d93",
   "metadata": {
    "scrolled": false
   },
   "outputs": [
    {
     "data": {
      "text/html": [
       "<div>\n",
       "<style scoped>\n",
       "    .dataframe tbody tr th:only-of-type {\n",
       "        vertical-align: middle;\n",
       "    }\n",
       "\n",
       "    .dataframe tbody tr th {\n",
       "        vertical-align: top;\n",
       "    }\n",
       "\n",
       "    .dataframe thead th {\n",
       "        text-align: right;\n",
       "    }\n",
       "</style>\n",
       "<table border=\"1\" class=\"dataframe\">\n",
       "  <thead>\n",
       "    <tr style=\"text-align: right;\">\n",
       "      <th></th>\n",
       "      <th>id</th>\n",
       "      <th>seq_len</th>\n",
       "      <th>gravy</th>\n",
       "      <th>tiny</th>\n",
       "      <th>small</th>\n",
       "      <th>aliphatic</th>\n",
       "      <th>aromatic</th>\n",
       "      <th>non_polar</th>\n",
       "      <th>polar</th>\n",
       "      <th>charged</th>\n",
       "      <th>basic</th>\n",
       "      <th>acidic</th>\n",
       "      <th>helix</th>\n",
       "      <th>turn</th>\n",
       "      <th>sheet</th>\n",
       "    </tr>\n",
       "  </thead>\n",
       "  <tbody>\n",
       "    <tr>\n",
       "      <th>0</th>\n",
       "      <td>GHWT</td>\n",
       "      <td>4</td>\n",
       "      <td>-1.300000</td>\n",
       "      <td>0.500000</td>\n",
       "      <td>0.500000</td>\n",
       "      <td>0.00</td>\n",
       "      <td>0.500000</td>\n",
       "      <td>0.500000</td>\n",
       "      <td>0.500000</td>\n",
       "      <td>0.250000</td>\n",
       "      <td>0.250000</td>\n",
       "      <td>0.000000</td>\n",
       "      <td>0.250000</td>\n",
       "      <td>0.250000</td>\n",
       "      <td>0.000000</td>\n",
       "    </tr>\n",
       "    <tr>\n",
       "      <th>1</th>\n",
       "      <td>GHWTQ</td>\n",
       "      <td>5</td>\n",
       "      <td>-1.740000</td>\n",
       "      <td>0.400000</td>\n",
       "      <td>0.400000</td>\n",
       "      <td>0.00</td>\n",
       "      <td>0.400000</td>\n",
       "      <td>0.400000</td>\n",
       "      <td>0.600000</td>\n",
       "      <td>0.200000</td>\n",
       "      <td>0.200000</td>\n",
       "      <td>0.000000</td>\n",
       "      <td>0.200000</td>\n",
       "      <td>0.200000</td>\n",
       "      <td>0.000000</td>\n",
       "    </tr>\n",
       "    <tr>\n",
       "      <th>2</th>\n",
       "      <td>HWT</td>\n",
       "      <td>3</td>\n",
       "      <td>-1.600000</td>\n",
       "      <td>0.333333</td>\n",
       "      <td>0.333333</td>\n",
       "      <td>0.00</td>\n",
       "      <td>0.666667</td>\n",
       "      <td>0.333333</td>\n",
       "      <td>0.666667</td>\n",
       "      <td>0.333333</td>\n",
       "      <td>0.333333</td>\n",
       "      <td>0.000000</td>\n",
       "      <td>0.333333</td>\n",
       "      <td>0.000000</td>\n",
       "      <td>0.000000</td>\n",
       "    </tr>\n",
       "    <tr>\n",
       "      <th>3</th>\n",
       "      <td>HWTQ</td>\n",
       "      <td>4</td>\n",
       "      <td>-2.075000</td>\n",
       "      <td>0.250000</td>\n",
       "      <td>0.250000</td>\n",
       "      <td>0.00</td>\n",
       "      <td>0.500000</td>\n",
       "      <td>0.250000</td>\n",
       "      <td>0.750000</td>\n",
       "      <td>0.250000</td>\n",
       "      <td>0.250000</td>\n",
       "      <td>0.000000</td>\n",
       "      <td>0.250000</td>\n",
       "      <td>0.000000</td>\n",
       "      <td>0.000000</td>\n",
       "    </tr>\n",
       "    <tr>\n",
       "      <th>4</th>\n",
       "      <td>PGNV</td>\n",
       "      <td>4</td>\n",
       "      <td>-0.325000</td>\n",
       "      <td>0.250000</td>\n",
       "      <td>0.750000</td>\n",
       "      <td>0.25</td>\n",
       "      <td>0.000000</td>\n",
       "      <td>0.750000</td>\n",
       "      <td>0.250000</td>\n",
       "      <td>0.000000</td>\n",
       "      <td>0.000000</td>\n",
       "      <td>0.000000</td>\n",
       "      <td>0.250000</td>\n",
       "      <td>0.750000</td>\n",
       "      <td>0.000000</td>\n",
       "    </tr>\n",
       "    <tr>\n",
       "      <th>...</th>\n",
       "      <td>...</td>\n",
       "      <td>...</td>\n",
       "      <td>...</td>\n",
       "      <td>...</td>\n",
       "      <td>...</td>\n",
       "      <td>...</td>\n",
       "      <td>...</td>\n",
       "      <td>...</td>\n",
       "      <td>...</td>\n",
       "      <td>...</td>\n",
       "      <td>...</td>\n",
       "      <td>...</td>\n",
       "      <td>...</td>\n",
       "      <td>...</td>\n",
       "      <td>...</td>\n",
       "    </tr>\n",
       "    <tr>\n",
       "      <th>193</th>\n",
       "      <td>VHAA</td>\n",
       "      <td>4</td>\n",
       "      <td>1.150000</td>\n",
       "      <td>0.500000</td>\n",
       "      <td>0.750000</td>\n",
       "      <td>0.75</td>\n",
       "      <td>0.250000</td>\n",
       "      <td>0.750000</td>\n",
       "      <td>0.250000</td>\n",
       "      <td>0.250000</td>\n",
       "      <td>0.250000</td>\n",
       "      <td>0.000000</td>\n",
       "      <td>0.250000</td>\n",
       "      <td>0.000000</td>\n",
       "      <td>0.500000</td>\n",
       "    </tr>\n",
       "    <tr>\n",
       "      <th>194</th>\n",
       "      <td>VKSY</td>\n",
       "      <td>4</td>\n",
       "      <td>-0.450000</td>\n",
       "      <td>0.250000</td>\n",
       "      <td>0.500000</td>\n",
       "      <td>0.25</td>\n",
       "      <td>0.250000</td>\n",
       "      <td>0.500000</td>\n",
       "      <td>0.500000</td>\n",
       "      <td>0.250000</td>\n",
       "      <td>0.250000</td>\n",
       "      <td>0.000000</td>\n",
       "      <td>0.500000</td>\n",
       "      <td>0.250000</td>\n",
       "      <td>0.000000</td>\n",
       "    </tr>\n",
       "    <tr>\n",
       "      <th>195</th>\n",
       "      <td>KTD</td>\n",
       "      <td>3</td>\n",
       "      <td>-2.700000</td>\n",
       "      <td>0.333333</td>\n",
       "      <td>0.000000</td>\n",
       "      <td>0.00</td>\n",
       "      <td>0.000000</td>\n",
       "      <td>0.000000</td>\n",
       "      <td>1.000000</td>\n",
       "      <td>0.666667</td>\n",
       "      <td>0.333333</td>\n",
       "      <td>0.333333</td>\n",
       "      <td>0.000000</td>\n",
       "      <td>0.000000</td>\n",
       "      <td>0.000000</td>\n",
       "    </tr>\n",
       "    <tr>\n",
       "      <th>196</th>\n",
       "      <td>DKE</td>\n",
       "      <td>3</td>\n",
       "      <td>-3.633333</td>\n",
       "      <td>0.000000</td>\n",
       "      <td>0.000000</td>\n",
       "      <td>0.00</td>\n",
       "      <td>0.000000</td>\n",
       "      <td>0.000000</td>\n",
       "      <td>1.000000</td>\n",
       "      <td>1.000000</td>\n",
       "      <td>0.333333</td>\n",
       "      <td>0.666667</td>\n",
       "      <td>0.000000</td>\n",
       "      <td>0.000000</td>\n",
       "      <td>0.333333</td>\n",
       "    </tr>\n",
       "    <tr>\n",
       "      <th>197</th>\n",
       "      <td>KCS</td>\n",
       "      <td>3</td>\n",
       "      <td>-0.733333</td>\n",
       "      <td>0.666667</td>\n",
       "      <td>0.333333</td>\n",
       "      <td>0.00</td>\n",
       "      <td>0.000000</td>\n",
       "      <td>0.333333</td>\n",
       "      <td>0.666667</td>\n",
       "      <td>0.333333</td>\n",
       "      <td>0.333333</td>\n",
       "      <td>0.000000</td>\n",
       "      <td>0.000000</td>\n",
       "      <td>0.333333</td>\n",
       "      <td>0.000000</td>\n",
       "    </tr>\n",
       "  </tbody>\n",
       "</table>\n",
       "<p>198 rows × 15 columns</p>\n",
       "</div>"
      ],
      "text/plain": [
       "        id  seq_len     gravy      tiny     small  aliphatic  aromatic  \\\n",
       "0     GHWT        4 -1.300000  0.500000  0.500000       0.00  0.500000   \n",
       "1    GHWTQ        5 -1.740000  0.400000  0.400000       0.00  0.400000   \n",
       "2      HWT        3 -1.600000  0.333333  0.333333       0.00  0.666667   \n",
       "3     HWTQ        4 -2.075000  0.250000  0.250000       0.00  0.500000   \n",
       "4     PGNV        4 -0.325000  0.250000  0.750000       0.25  0.000000   \n",
       "..     ...      ...       ...       ...       ...        ...       ...   \n",
       "193   VHAA        4  1.150000  0.500000  0.750000       0.75  0.250000   \n",
       "194   VKSY        4 -0.450000  0.250000  0.500000       0.25  0.250000   \n",
       "195    KTD        3 -2.700000  0.333333  0.000000       0.00  0.000000   \n",
       "196    DKE        3 -3.633333  0.000000  0.000000       0.00  0.000000   \n",
       "197    KCS        3 -0.733333  0.666667  0.333333       0.00  0.000000   \n",
       "\n",
       "     non_polar     polar   charged     basic    acidic     helix      turn  \\\n",
       "0     0.500000  0.500000  0.250000  0.250000  0.000000  0.250000  0.250000   \n",
       "1     0.400000  0.600000  0.200000  0.200000  0.000000  0.200000  0.200000   \n",
       "2     0.333333  0.666667  0.333333  0.333333  0.000000  0.333333  0.000000   \n",
       "3     0.250000  0.750000  0.250000  0.250000  0.000000  0.250000  0.000000   \n",
       "4     0.750000  0.250000  0.000000  0.000000  0.000000  0.250000  0.750000   \n",
       "..         ...       ...       ...       ...       ...       ...       ...   \n",
       "193   0.750000  0.250000  0.250000  0.250000  0.000000  0.250000  0.000000   \n",
       "194   0.500000  0.500000  0.250000  0.250000  0.000000  0.500000  0.250000   \n",
       "195   0.000000  1.000000  0.666667  0.333333  0.333333  0.000000  0.000000   \n",
       "196   0.000000  1.000000  1.000000  0.333333  0.666667  0.000000  0.000000   \n",
       "197   0.333333  0.666667  0.333333  0.333333  0.000000  0.000000  0.333333   \n",
       "\n",
       "        sheet  \n",
       "0    0.000000  \n",
       "1    0.000000  \n",
       "2    0.000000  \n",
       "3    0.000000  \n",
       "4    0.000000  \n",
       "..        ...  \n",
       "193  0.500000  \n",
       "194  0.000000  \n",
       "195  0.000000  \n",
       "196  0.333333  \n",
       "197  0.000000  \n",
       "\n",
       "[198 rows x 15 columns]"
      ]
     },
     "execution_count": 2,
     "metadata": {},
     "output_type": "execute_result"
    }
   ],
   "source": [
    "df_motifs = pd.read_csv('df_motifs_features.tsv')\n",
    "df_motifs"
   ]
  },
  {
   "cell_type": "markdown",
   "id": "45e959d4",
   "metadata": {},
   "source": [
    "# The functions"
   ]
  },
  {
   "cell_type": "code",
   "execution_count": 3,
   "id": "2e4ae1c8",
   "metadata": {},
   "outputs": [],
   "source": [
    "def features_data_scaling(df_features, scaling_method):\n",
    "    \"\"\"features_data_scaling\n",
    "       ---------------------\n",
    "       This function scales data from \n",
    "       feature calculation.\n",
    "       \n",
    "       Arguments:\n",
    "       df_features -- pandas dataframe with \n",
    "                      values of features\n",
    "       scaling_method -- 0 or 1 or 2:\n",
    "                         where 0 -> standard scaling\n",
    "                         where 1 -> minmax scaling\n",
    "                         where 2 -> robust scaling\n",
    "\n",
    "       Output:\n",
    "       df_features_scl -- pandas dataframe with \n",
    "                        scaled values of features\n",
    "    \"\"\"\n",
    "    ### Creates a copy of the original dataframe\n",
    "    #\n",
    "    df_features_scl = df_features.copy()\n",
    "\n",
    "    ### Drop duplicated lines (e.g. seqs that are present several times)\n",
    "    #\n",
    "    df_features_scl = df_features_scl.drop_duplicates()\n",
    "\n",
    "    ### Set the id as index\n",
    "    #\n",
    "    df_features_scl.set_index('id', inplace=True)\n",
    "\n",
    "    ### Rescale the data\n",
    "    #\n",
    "    #   Here, we use a Standard Scaling\n",
    "    if scaling_method == 0: \n",
    "        df_features_scl = pd.DataFrame(\n",
    "            StandardScaler().fit_transform(df_features_scl),\n",
    "            index=df_features_scl.index, columns=df_features_scl.columns\n",
    "        )\n",
    "    \n",
    "    #   Here, we use a MinMax Scaling\n",
    "    if scaling_method == 1:\n",
    "        df_features_scl = pd.DataFrame(\n",
    "            MinMaxScaler().fit_transform(df_features_scl),\n",
    "            index=df_features_scl.index, columns=df_features_scl.columns\n",
    "        )\n",
    "    \n",
    "    #   Here, we use a Robust Scaling\n",
    "    if scaling_method == 2:\n",
    "        df_features_scl = pd.DataFrame(\n",
    "            RobustScaler().fit_transform(df_features_scl),\n",
    "            index=df_features_scl.index, columns=df_features_scl.columns\n",
    "        )\n",
    "    \n",
    "    return df_features_scl"
   ]
  },
  {
   "cell_type": "code",
   "execution_count": 4,
   "id": "499c4bbe",
   "metadata": {},
   "outputs": [],
   "source": [
    "def dendogram_of_motifs(link_matrix, df_motifs_scl, best_distance):\n",
    "    \"\"\"dendogram_of_motifs\n",
    "       -------------------\n",
    "       This function generates the dendogram \n",
    "       of the clustered motifs.\n",
    "       \n",
    "       Arguments:\n",
    "       link_matrix -- linkage matrix of clustering\n",
    "       df_motifs_scl -- pandas dataframe of \n",
    "                        motifs' scaled feature values.\n",
    "       best_distance -- distance at which the cut of the tree in CLUMPs\n",
    "                        is performed.\n",
    "       \n",
    "       Output:\n",
    "       dendogram -- figure of the dendogram\n",
    "    \"\"\"\n",
    "    dendogram = plt.figure(figsize=(12, 30))\n",
    "    dend = shc.dendrogram(link_matrix, \n",
    "                         labels=df_motifs_scl.index,\n",
    "                         leaf_font_size=10, \n",
    "                         orientation='right',\n",
    "                         color_threshold= best_distance)\n",
    "    plt.axvline(x=best_distance)\n",
    "    plt.title(\"Dendrogram of motifs\", fontsize=25);\n",
    "    \n",
    "    return dendogram"
   ]
  },
  {
   "cell_type": "code",
   "execution_count": 5,
   "id": "b13f8775",
   "metadata": {},
   "outputs": [],
   "source": [
    "def db_score(link_matrix, nb_distances, df_motifs_scl):\n",
    "    \"\"\"db_score\n",
    "       --------\n",
    "       This function calculates the davies bouldin score\n",
    "       for a given number of intervals of distances (nb_distances)\n",
    "       \n",
    "       Arguments:\n",
    "       link_matrix -- linkage matrix of clustering,\n",
    "       nb_distances -- number of intervals of distances at which\n",
    "                       calculate the davies bouldin score \n",
    "       df_motifs_scl -- pandas dataframe of \n",
    "                        motifs' scaled feature values.\n",
    "                        \n",
    "       Output:\n",
    "       \n",
    "       dict_davies_bouldin_results -- all the distances tested and the\n",
    "                                      corresponding davies bouldin score\n",
    "    \"\"\"\n",
    "    # Calculate maximum distance in distance matrix.\n",
    "    max_dist = shc.maxdists(link_matrix).max()\n",
    "    # Calculate nb_distances\n",
    "    possible_nb_CLUMPs = np.linspace(1, max_dist, nb_distances)\n",
    "\n",
    "    # Iterate on all the distances to perform the cut\n",
    "    dict_davies_bouldin_results = {}\n",
    "    X = np.array(df_motifs_scl)\n",
    "    for distance in possible_distances:\n",
    "\n",
    "        # create a df with CLUMPs obtained at that distance\n",
    "        \n",
    "        motifs_CLUMPs = pd.DataFrame(\n",
    "            {'motif':df_motifs_scl.index, 'CLUMP':cut_tree(\n",
    "                link_matrix, height= distance).ravel()})\n",
    "        labels = np.array(motifs_CLUMPs.CLUMP)\n",
    "        db_index = davies_bouldin_score(X, labels)\n",
    "        dict_davies_bouldin_results.update({distance: db_index})\n",
    "    \n",
    "    return dict_davies_bouldin_results"
   ]
  },
  {
   "cell_type": "code",
   "execution_count": 6,
   "id": "ca7ee134",
   "metadata": {},
   "outputs": [],
   "source": [
    "def calculate_df_motifs_CLUMPs_of_best_cut(link_matrix, nb_distances, df_motifs_scl):\n",
    "    \"\"\"calculate_df_motifs_CLUMPs_of_best_cut\n",
    "       --------------------------------------\n",
    "       This function iterates on the possible distances of CLUMPs \n",
    "       for the tree cut and calculates the corresponding davies_bouldin_score.\n",
    "       Then, returns the dataframe df_motifs_CLUMPs calculated\n",
    "       using the best distance.\n",
    "    \n",
    "       Arguments: \n",
    "       link_matrix -- linkage matrix of clustering\n",
    "       nb_distances -- number of intervals of distances at which\n",
    "                       calculate the davies bouldin score \n",
    "       df_motifs_scl -- pandas dataframe of \n",
    "                        motifs' scaled feature values.\n",
    "    \n",
    "       Output:\n",
    "       dict_davies_bouldin_results -- all the distances tested and the\n",
    "                                      corresponding davies bouldin score.\n",
    "       best_distance -- best distance for the \n",
    "                        cutting of the tree \n",
    "                        according to the calculated function.\n",
    "       df_motifs_CLUMPs -- pandas dataframe of motifs and CLUMPs.\n",
    "    \n",
    "    \"\"\"\n",
    "\n",
    "    dict_davies_bouldin_results = db_score(link_matrix, nb_distances, df_motifs_scl)\n",
    "    \n",
    "    # Find first local minimum in dict_davies_bouldin_results\n",
    "    x = np.array(list(dict_davies_bouldin_results.values()))\n",
    "    min_peakind = signal.find_peaks_cwt(1/x, np.arange(1,10))\n",
    "    best_davies = x[min_peakind][0]\n",
    "    # extract best distance by best db score\n",
    "    distances = list(dict_davies_bouldin_results.keys())\n",
    "    db_scores = list(dict_davies_bouldin_results.values())\n",
    "    position = db_scores.index(best_davies)\n",
    "    best_distance = distances[position]\n",
    "\n",
    "    # Create df using the best distance\n",
    "    df_motifs_CLUMPs = pd.DataFrame(\n",
    "        {'motif':df_motifs_scl.index,\n",
    "         'CLUMP':cut_tree(link_matrix, height = best_distance).ravel()})\n",
    "    \n",
    "    return best_distance, df_motifs_CLUMPs, dict_davies_bouldin_results"
   ]
  },
  {
   "cell_type": "code",
   "execution_count": 7,
   "id": "1316ff1e",
   "metadata": {},
   "outputs": [],
   "source": [
    "def get_newick(node, parent_dist, leaf_names, newick='') -> str:\n",
    "    \"\"\"\n",
    "    Convert sciply.cluster.hierarchy.to_tree()-output to Newick format.\n",
    "\n",
    "    :param node: output of sciply.cluster.hierarchy.to_tree()\n",
    "    :param parent_dist: output of sciply.cluster.hierarchy.to_tree().dist\n",
    "    :param leaf_names: list of leaf names\n",
    "    :param newick: leave empty, this variable is used in recursion.\n",
    "    :returns: tree in Newick format\n",
    "    \"\"\"\n",
    "    if node.is_leaf():\n",
    "        return \"%s:%.2f%s\" % (leaf_names[node.id], parent_dist - node.dist, newick)\n",
    "    else:\n",
    "        if len(newick) > 0:\n",
    "            newick = \"):%.2f%s\" % (parent_dist - node.dist, newick)\n",
    "        else:\n",
    "            newick = \");\"\n",
    "        newick = get_newick(node.get_left(), node.dist, leaf_names, newick=newick)\n",
    "        newick = get_newick(node.get_right(), node.dist, leaf_names, newick=\",%s\" % (newick))\n",
    "        newick = \"(%s\" % (newick)\n",
    "        return newick"
   ]
  },
  {
   "cell_type": "code",
   "execution_count": 8,
   "id": "3bb025fc",
   "metadata": {},
   "outputs": [],
   "source": [
    "def to_newick(df_motifs, link_matrix):\n",
    "    tree = shc.to_tree(link_matrix, False)\n",
    "    leaf_names= df_motifs.index\n",
    "    newick_tree= get_newick(tree, tree.dist, leaf_names)\n",
    "    return newick_tree"
   ]
  },
  {
   "cell_type": "code",
   "execution_count": 9,
   "id": "fd200d8c",
   "metadata": {},
   "outputs": [],
   "source": [
    "def motif_clustering(df_motifs_scl, nb_distances):\n",
    "    \"\"\"motif_clustering\n",
    "       ----------------\n",
    "       This function performs a \n",
    "       hierarchical/agglomerative clustering \n",
    "       on the motifs.\n",
    "       \n",
    "       Then it converts the tree in newick format.\n",
    "       \n",
    "       Then it calculates the best distance to cut\n",
    "       the tree to obtain the CLUMPs \n",
    "       (cluster of motifs of proteins). \n",
    "       To do that it uses the davies_bouldin score.\n",
    "       \n",
    "       Then it cuts the tree into CLUMPs.\n",
    "       \n",
    "       Arguments:\n",
    "       df_motifs_scl -- pandas dataframe of \n",
    "                        motifs' scaled feature values \n",
    "       nb_distances -- number of intervals of distances at which\n",
    "                       calculate the davies bouldin score \n",
    "       \n",
    "       Output:\n",
    "       link_matrix -- linkage matrix of motifs.\n",
    "       dict_davies_bouldin_results -- all the distances tested and the\n",
    "                                      corresponding davies bouldin score\n",
    "       df_motifs_CLUMPs -- pandas dataframe of the motifs\n",
    "                           and the correspondant CLUMP\n",
    "       dendogram -- dendogram of the clustered motifs\n",
    "                           \n",
    "       \n",
    "    \"\"\"\n",
    "    \n",
    "    ### Clustering (creation of the linkage matrix using the method ward)\n",
    "    #\n",
    "    link_matrix = shc.linkage(df_motifs_scl, method='ward')\n",
    "    \n",
    "\n",
    "    ### Iterating on the possible distances of CLUMPs for the \n",
    "    ### tree cut and calculate corresponding davies_bouldin_score\n",
    "    #\n",
    "    best_distance, df_motifs_CLUMPs, dict_davies_bouldin_results = calculate_df_motifs_CLUMPs_of_best_cut(\n",
    "        link_matrix, nb_distances, df_motifs_scl)\n",
    "    \n",
    "    # Generate dendogram of motifs, with CLUMPs obtained cutting\n",
    "    # at the best_distance\n",
    "    dendogram = dendogram_of_motifs(link_matrix, df_motifs_scl, best_distance)\n",
    "    \n",
    "    ### Getting Newick format of tree\n",
    "    newick_tree = to_newick(df_motifs_scl, link_matrix)\n",
    "    \n",
    "    return link_matrix, best_distance, dict_davies_bouldin_results, df_motifs_CLUMPs, dendogram, newick_tree"
   ]
  },
  {
   "cell_type": "markdown",
   "id": "b0f0aa55",
   "metadata": {},
   "source": [
    "# Different nb_distances tests"
   ]
  },
  {
   "cell_type": "code",
   "execution_count": 10,
   "id": "278e8e0b",
   "metadata": {},
   "outputs": [
    {
     "data": {
      "text/html": [
       "<div>\n",
       "<style scoped>\n",
       "    .dataframe tbody tr th:only-of-type {\n",
       "        vertical-align: middle;\n",
       "    }\n",
       "\n",
       "    .dataframe tbody tr th {\n",
       "        vertical-align: top;\n",
       "    }\n",
       "\n",
       "    .dataframe thead th {\n",
       "        text-align: right;\n",
       "    }\n",
       "</style>\n",
       "<table border=\"1\" class=\"dataframe\">\n",
       "  <thead>\n",
       "    <tr style=\"text-align: right;\">\n",
       "      <th></th>\n",
       "      <th>seq_len</th>\n",
       "      <th>gravy</th>\n",
       "      <th>tiny</th>\n",
       "      <th>small</th>\n",
       "      <th>aliphatic</th>\n",
       "      <th>aromatic</th>\n",
       "      <th>non_polar</th>\n",
       "      <th>polar</th>\n",
       "      <th>charged</th>\n",
       "      <th>basic</th>\n",
       "      <th>acidic</th>\n",
       "      <th>helix</th>\n",
       "      <th>turn</th>\n",
       "      <th>sheet</th>\n",
       "    </tr>\n",
       "    <tr>\n",
       "      <th>id</th>\n",
       "      <th></th>\n",
       "      <th></th>\n",
       "      <th></th>\n",
       "      <th></th>\n",
       "      <th></th>\n",
       "      <th></th>\n",
       "      <th></th>\n",
       "      <th></th>\n",
       "      <th></th>\n",
       "      <th></th>\n",
       "      <th></th>\n",
       "      <th></th>\n",
       "      <th></th>\n",
       "      <th></th>\n",
       "    </tr>\n",
       "  </thead>\n",
       "  <tbody>\n",
       "    <tr>\n",
       "      <th>GHWT</th>\n",
       "      <td>-0.339422</td>\n",
       "      <td>-0.120778</td>\n",
       "      <td>0.714946</td>\n",
       "      <td>0.073660</td>\n",
       "      <td>-0.752360</td>\n",
       "      <td>2.478558</td>\n",
       "      <td>0.073660</td>\n",
       "      <td>-0.073660</td>\n",
       "      <td>-0.353197</td>\n",
       "      <td>0.200239</td>\n",
       "      <td>-0.809562</td>\n",
       "      <td>0.244722</td>\n",
       "      <td>-0.047429</td>\n",
       "      <td>-0.992790</td>\n",
       "    </tr>\n",
       "    <tr>\n",
       "      <th>GHWTQ</th>\n",
       "      <td>1.154035</td>\n",
       "      <td>-0.356709</td>\n",
       "      <td>0.350884</td>\n",
       "      <td>-0.243398</td>\n",
       "      <td>-0.752360</td>\n",
       "      <td>1.863192</td>\n",
       "      <td>-0.243398</td>\n",
       "      <td>0.243398</td>\n",
       "      <td>-0.499296</td>\n",
       "      <td>-0.025030</td>\n",
       "      <td>-0.809562</td>\n",
       "      <td>0.039404</td>\n",
       "      <td>-0.243074</td>\n",
       "      <td>-0.992790</td>\n",
       "    </tr>\n",
       "    <tr>\n",
       "      <th>HWT</th>\n",
       "      <td>-1.832879</td>\n",
       "      <td>-0.281640</td>\n",
       "      <td>0.108177</td>\n",
       "      <td>-0.454770</td>\n",
       "      <td>-0.752360</td>\n",
       "      <td>3.504169</td>\n",
       "      <td>-0.454770</td>\n",
       "      <td>0.454770</td>\n",
       "      <td>-0.109698</td>\n",
       "      <td>0.575687</td>\n",
       "      <td>-0.809562</td>\n",
       "      <td>0.586917</td>\n",
       "      <td>-1.025656</td>\n",
       "      <td>-0.992790</td>\n",
       "    </tr>\n",
       "    <tr>\n",
       "      <th>HWTQ</th>\n",
       "      <td>-0.339422</td>\n",
       "      <td>-0.536338</td>\n",
       "      <td>-0.195208</td>\n",
       "      <td>-0.718985</td>\n",
       "      <td>-0.752360</td>\n",
       "      <td>2.478558</td>\n",
       "      <td>-0.718985</td>\n",
       "      <td>0.718985</td>\n",
       "      <td>-0.353197</td>\n",
       "      <td>0.200239</td>\n",
       "      <td>-0.809562</td>\n",
       "      <td>0.244722</td>\n",
       "      <td>-1.025656</td>\n",
       "      <td>-0.992790</td>\n",
       "    </tr>\n",
       "    <tr>\n",
       "      <th>PGNV</th>\n",
       "      <td>-0.339422</td>\n",
       "      <td>0.402025</td>\n",
       "      <td>-0.195208</td>\n",
       "      <td>0.866304</td>\n",
       "      <td>0.433056</td>\n",
       "      <td>-0.598273</td>\n",
       "      <td>0.866304</td>\n",
       "      <td>-0.866304</td>\n",
       "      <td>-1.083694</td>\n",
       "      <td>-0.926106</td>\n",
       "      <td>-0.809562</td>\n",
       "      <td>0.244722</td>\n",
       "      <td>1.909024</td>\n",
       "      <td>-0.992790</td>\n",
       "    </tr>\n",
       "    <tr>\n",
       "      <th>...</th>\n",
       "      <td>...</td>\n",
       "      <td>...</td>\n",
       "      <td>...</td>\n",
       "      <td>...</td>\n",
       "      <td>...</td>\n",
       "      <td>...</td>\n",
       "      <td>...</td>\n",
       "      <td>...</td>\n",
       "      <td>...</td>\n",
       "      <td>...</td>\n",
       "      <td>...</td>\n",
       "      <td>...</td>\n",
       "      <td>...</td>\n",
       "      <td>...</td>\n",
       "    </tr>\n",
       "    <tr>\n",
       "      <th>VHAA</th>\n",
       "      <td>-0.339422</td>\n",
       "      <td>1.192930</td>\n",
       "      <td>0.714946</td>\n",
       "      <td>0.866304</td>\n",
       "      <td>2.803888</td>\n",
       "      <td>0.940143</td>\n",
       "      <td>0.866304</td>\n",
       "      <td>-0.866304</td>\n",
       "      <td>-0.353197</td>\n",
       "      <td>0.200239</td>\n",
       "      <td>-0.809562</td>\n",
       "      <td>0.244722</td>\n",
       "      <td>-1.025656</td>\n",
       "      <td>1.247777</td>\n",
       "    </tr>\n",
       "    <tr>\n",
       "      <th>VKSY</th>\n",
       "      <td>-0.339422</td>\n",
       "      <td>0.334999</td>\n",
       "      <td>-0.195208</td>\n",
       "      <td>0.073660</td>\n",
       "      <td>0.433056</td>\n",
       "      <td>0.940143</td>\n",
       "      <td>0.073660</td>\n",
       "      <td>-0.073660</td>\n",
       "      <td>-0.353197</td>\n",
       "      <td>0.200239</td>\n",
       "      <td>-0.809562</td>\n",
       "      <td>1.271308</td>\n",
       "      <td>-0.047429</td>\n",
       "      <td>-0.992790</td>\n",
       "    </tr>\n",
       "    <tr>\n",
       "      <th>KTD</th>\n",
       "      <td>-1.832879</td>\n",
       "      <td>-0.871468</td>\n",
       "      <td>0.108177</td>\n",
       "      <td>-1.511629</td>\n",
       "      <td>-0.752360</td>\n",
       "      <td>-0.598273</td>\n",
       "      <td>-1.511629</td>\n",
       "      <td>1.511629</td>\n",
       "      <td>0.864299</td>\n",
       "      <td>0.575687</td>\n",
       "      <td>0.822752</td>\n",
       "      <td>-0.781865</td>\n",
       "      <td>-1.025656</td>\n",
       "      <td>-0.992790</td>\n",
       "    </tr>\n",
       "    <tr>\n",
       "      <th>DKE</th>\n",
       "      <td>-1.832879</td>\n",
       "      <td>-1.371928</td>\n",
       "      <td>-1.105362</td>\n",
       "      <td>-1.511629</td>\n",
       "      <td>-0.752360</td>\n",
       "      <td>-0.598273</td>\n",
       "      <td>-1.511629</td>\n",
       "      <td>1.511629</td>\n",
       "      <td>1.838295</td>\n",
       "      <td>0.575687</td>\n",
       "      <td>2.455067</td>\n",
       "      <td>-0.781865</td>\n",
       "      <td>-1.025656</td>\n",
       "      <td>0.500921</td>\n",
       "    </tr>\n",
       "    <tr>\n",
       "      <th>KCS</th>\n",
       "      <td>-1.832879</td>\n",
       "      <td>0.183073</td>\n",
       "      <td>1.321715</td>\n",
       "      <td>-0.454770</td>\n",
       "      <td>-0.752360</td>\n",
       "      <td>-0.598273</td>\n",
       "      <td>-0.454770</td>\n",
       "      <td>0.454770</td>\n",
       "      <td>-0.109698</td>\n",
       "      <td>0.575687</td>\n",
       "      <td>-0.809562</td>\n",
       "      <td>-0.781865</td>\n",
       "      <td>0.278646</td>\n",
       "      <td>-0.992790</td>\n",
       "    </tr>\n",
       "  </tbody>\n",
       "</table>\n",
       "<p>198 rows × 14 columns</p>\n",
       "</div>"
      ],
      "text/plain": [
       "        seq_len     gravy      tiny     small  aliphatic  aromatic  non_polar  \\\n",
       "id                                                                              \n",
       "GHWT  -0.339422 -0.120778  0.714946  0.073660  -0.752360  2.478558   0.073660   \n",
       "GHWTQ  1.154035 -0.356709  0.350884 -0.243398  -0.752360  1.863192  -0.243398   \n",
       "HWT   -1.832879 -0.281640  0.108177 -0.454770  -0.752360  3.504169  -0.454770   \n",
       "HWTQ  -0.339422 -0.536338 -0.195208 -0.718985  -0.752360  2.478558  -0.718985   \n",
       "PGNV  -0.339422  0.402025 -0.195208  0.866304   0.433056 -0.598273   0.866304   \n",
       "...         ...       ...       ...       ...        ...       ...        ...   \n",
       "VHAA  -0.339422  1.192930  0.714946  0.866304   2.803888  0.940143   0.866304   \n",
       "VKSY  -0.339422  0.334999 -0.195208  0.073660   0.433056  0.940143   0.073660   \n",
       "KTD   -1.832879 -0.871468  0.108177 -1.511629  -0.752360 -0.598273  -1.511629   \n",
       "DKE   -1.832879 -1.371928 -1.105362 -1.511629  -0.752360 -0.598273  -1.511629   \n",
       "KCS   -1.832879  0.183073  1.321715 -0.454770  -0.752360 -0.598273  -0.454770   \n",
       "\n",
       "          polar   charged     basic    acidic     helix      turn     sheet  \n",
       "id                                                                           \n",
       "GHWT  -0.073660 -0.353197  0.200239 -0.809562  0.244722 -0.047429 -0.992790  \n",
       "GHWTQ  0.243398 -0.499296 -0.025030 -0.809562  0.039404 -0.243074 -0.992790  \n",
       "HWT    0.454770 -0.109698  0.575687 -0.809562  0.586917 -1.025656 -0.992790  \n",
       "HWTQ   0.718985 -0.353197  0.200239 -0.809562  0.244722 -1.025656 -0.992790  \n",
       "PGNV  -0.866304 -1.083694 -0.926106 -0.809562  0.244722  1.909024 -0.992790  \n",
       "...         ...       ...       ...       ...       ...       ...       ...  \n",
       "VHAA  -0.866304 -0.353197  0.200239 -0.809562  0.244722 -1.025656  1.247777  \n",
       "VKSY  -0.073660 -0.353197  0.200239 -0.809562  1.271308 -0.047429 -0.992790  \n",
       "KTD    1.511629  0.864299  0.575687  0.822752 -0.781865 -1.025656 -0.992790  \n",
       "DKE    1.511629  1.838295  0.575687  2.455067 -0.781865 -1.025656  0.500921  \n",
       "KCS    0.454770 -0.109698  0.575687 -0.809562 -0.781865  0.278646 -0.992790  \n",
       "\n",
       "[198 rows x 14 columns]"
      ]
     },
     "execution_count": 10,
     "metadata": {},
     "output_type": "execute_result"
    }
   ],
   "source": [
    "df_motifs_scl = features_data_scaling(df_motifs, 0)\n",
    "df_motifs_scl"
   ]
  },
  {
   "cell_type": "code",
   "execution_count": 11,
   "id": "28b51fae",
   "metadata": {
    "scrolled": false
   },
   "outputs": [
    {
     "ename": "NameError",
     "evalue": "name 'possible_distances' is not defined",
     "output_type": "error",
     "traceback": [
      "\u001b[0;31m---------------------------------------------------------------------------\u001b[0m",
      "\u001b[0;31mNameError\u001b[0m                                 Traceback (most recent call last)",
      "Input \u001b[0;32mIn [11]\u001b[0m, in \u001b[0;36m<cell line: 2>\u001b[0;34m()\u001b[0m\n\u001b[1;32m      1\u001b[0m \u001b[38;5;66;03m# 5\u001b[39;00m\n\u001b[0;32m----> 2\u001b[0m link_matrix, best_distance, dict_davies_bouldin_results, df_motifs_CLUMPs, dendogram, newick_tree \u001b[38;5;241m=\u001b[39m \u001b[43mmotif_clustering\u001b[49m\u001b[43m(\u001b[49m\u001b[43mdf_motifs_scl\u001b[49m\u001b[43m,\u001b[49m\u001b[43m \u001b[49m\u001b[38;5;241;43m5\u001b[39;49m\u001b[43m)\u001b[49m\n",
      "Input \u001b[0;32mIn [9]\u001b[0m, in \u001b[0;36mmotif_clustering\u001b[0;34m(df_motifs_scl, nb_distances)\u001b[0m\n\u001b[1;32m     36\u001b[0m link_matrix \u001b[38;5;241m=\u001b[39m shc\u001b[38;5;241m.\u001b[39mlinkage(df_motifs_scl, method\u001b[38;5;241m=\u001b[39m\u001b[38;5;124m'\u001b[39m\u001b[38;5;124mward\u001b[39m\u001b[38;5;124m'\u001b[39m)\n\u001b[1;32m     39\u001b[0m \u001b[38;5;66;03m### Iterating on the possible distances of CLUMPs for the \u001b[39;00m\n\u001b[1;32m     40\u001b[0m \u001b[38;5;66;03m### tree cut and calculate corresponding davies_bouldin_score\u001b[39;00m\n\u001b[1;32m     41\u001b[0m \u001b[38;5;66;03m#\u001b[39;00m\n\u001b[0;32m---> 42\u001b[0m best_distance, df_motifs_CLUMPs, dict_davies_bouldin_results \u001b[38;5;241m=\u001b[39m \u001b[43mcalculate_df_motifs_CLUMPs_of_best_cut\u001b[49m\u001b[43m(\u001b[49m\n\u001b[1;32m     43\u001b[0m \u001b[43m    \u001b[49m\u001b[43mlink_matrix\u001b[49m\u001b[43m,\u001b[49m\u001b[43m \u001b[49m\u001b[43mnb_distances\u001b[49m\u001b[43m,\u001b[49m\u001b[43m \u001b[49m\u001b[43mdf_motifs_scl\u001b[49m\u001b[43m)\u001b[49m\n\u001b[1;32m     45\u001b[0m \u001b[38;5;66;03m# Generate dendogram of motifs, with CLUMPs obtained cutting\u001b[39;00m\n\u001b[1;32m     46\u001b[0m \u001b[38;5;66;03m# at the best_distance\u001b[39;00m\n\u001b[1;32m     47\u001b[0m dendogram \u001b[38;5;241m=\u001b[39m dendogram_of_motifs(link_matrix, df_motifs_scl, best_distance)\n",
      "Input \u001b[0;32mIn [6]\u001b[0m, in \u001b[0;36mcalculate_df_motifs_CLUMPs_of_best_cut\u001b[0;34m(link_matrix, nb_distances, df_motifs_scl)\u001b[0m\n\u001b[1;32m      1\u001b[0m \u001b[38;5;28;01mdef\u001b[39;00m \u001b[38;5;21mcalculate_df_motifs_CLUMPs_of_best_cut\u001b[39m(link_matrix, nb_distances, df_motifs_scl):\n\u001b[1;32m      2\u001b[0m     \u001b[38;5;124;03m\"\"\"calculate_df_motifs_CLUMPs_of_best_cut\u001b[39;00m\n\u001b[1;32m      3\u001b[0m \u001b[38;5;124;03m       --------------------------------------\u001b[39;00m\n\u001b[1;32m      4\u001b[0m \u001b[38;5;124;03m       This function iterates on the possible distances of CLUMPs \u001b[39;00m\n\u001b[0;32m   (...)\u001b[0m\n\u001b[1;32m     23\u001b[0m \u001b[38;5;124;03m    \u001b[39;00m\n\u001b[1;32m     24\u001b[0m \u001b[38;5;124;03m    \"\"\"\u001b[39;00m\n\u001b[0;32m---> 26\u001b[0m     dict_davies_bouldin_results \u001b[38;5;241m=\u001b[39m \u001b[43mdb_score\u001b[49m\u001b[43m(\u001b[49m\u001b[43mlink_matrix\u001b[49m\u001b[43m,\u001b[49m\u001b[43m \u001b[49m\u001b[43mnb_distances\u001b[49m\u001b[43m,\u001b[49m\u001b[43m \u001b[49m\u001b[43mdf_motifs_scl\u001b[49m\u001b[43m)\u001b[49m\n\u001b[1;32m     28\u001b[0m     \u001b[38;5;66;03m# Find first local minimum in dict_davies_bouldin_results\u001b[39;00m\n\u001b[1;32m     29\u001b[0m     x \u001b[38;5;241m=\u001b[39m np\u001b[38;5;241m.\u001b[39marray(\u001b[38;5;28mlist\u001b[39m(dict_davies_bouldin_results\u001b[38;5;241m.\u001b[39mvalues()))\n",
      "Input \u001b[0;32mIn [5]\u001b[0m, in \u001b[0;36mdb_score\u001b[0;34m(link_matrix, nb_distances, df_motifs_scl)\u001b[0m\n\u001b[1;32m     25\u001b[0m dict_davies_bouldin_results \u001b[38;5;241m=\u001b[39m {}\n\u001b[1;32m     26\u001b[0m X \u001b[38;5;241m=\u001b[39m np\u001b[38;5;241m.\u001b[39marray(df_motifs_scl)\n\u001b[0;32m---> 27\u001b[0m \u001b[38;5;28;01mfor\u001b[39;00m distance \u001b[38;5;129;01min\u001b[39;00m \u001b[43mpossible_distances\u001b[49m:\n\u001b[1;32m     28\u001b[0m \n\u001b[1;32m     29\u001b[0m     \u001b[38;5;66;03m# create a df with CLUMPs obtained at that distance\u001b[39;00m\n\u001b[1;32m     31\u001b[0m     motifs_CLUMPs \u001b[38;5;241m=\u001b[39m pd\u001b[38;5;241m.\u001b[39mDataFrame(\n\u001b[1;32m     32\u001b[0m         {\u001b[38;5;124m'\u001b[39m\u001b[38;5;124mmotif\u001b[39m\u001b[38;5;124m'\u001b[39m:df_motifs_scl\u001b[38;5;241m.\u001b[39mindex, \u001b[38;5;124m'\u001b[39m\u001b[38;5;124mCLUMP\u001b[39m\u001b[38;5;124m'\u001b[39m:cut_tree(\n\u001b[1;32m     33\u001b[0m             link_matrix, height\u001b[38;5;241m=\u001b[39m distance)\u001b[38;5;241m.\u001b[39mravel()})\n\u001b[1;32m     34\u001b[0m     labels \u001b[38;5;241m=\u001b[39m np\u001b[38;5;241m.\u001b[39marray(motifs_CLUMPs\u001b[38;5;241m.\u001b[39mCLUMP)\n",
      "\u001b[0;31mNameError\u001b[0m: name 'possible_distances' is not defined"
     ]
    }
   ],
   "source": [
    "# 5\n",
    "link_matrix, best_distance, dict_davies_bouldin_results, df_motifs_CLUMPs, dendogram, newick_tree = motif_clustering(df_motifs_scl, 5)"
   ]
  },
  {
   "cell_type": "code",
   "execution_count": null,
   "id": "2477f1bf",
   "metadata": {
    "scrolled": false
   },
   "outputs": [],
   "source": [
    "df_motifs_CLUMPs.CLUMP.unique()"
   ]
  },
  {
   "cell_type": "code",
   "execution_count": null,
   "id": "2959c75a",
   "metadata": {},
   "outputs": [],
   "source": [
    "dict_davies_bouldin_results"
   ]
  },
  {
   "cell_type": "code",
   "execution_count": null,
   "id": "b3374514",
   "metadata": {},
   "outputs": [],
   "source": []
  },
  {
   "cell_type": "code",
   "execution_count": null,
   "id": "ea372f29",
   "metadata": {
    "scrolled": true
   },
   "outputs": [],
   "source": [
    "# 6\n",
    "link_matrix, best_distance, dict_davies_bouldin_results, df_motifs_CLUMPs, dendogram, newick_tree = motif_clustering(df_motifs_scl, 6)"
   ]
  },
  {
   "cell_type": "code",
   "execution_count": null,
   "id": "ebf2620a",
   "metadata": {
    "scrolled": false
   },
   "outputs": [],
   "source": [
    "df_motifs_CLUMPs.CLUMP.unique()"
   ]
  },
  {
   "cell_type": "code",
   "execution_count": null,
   "id": "a3b36c85",
   "metadata": {},
   "outputs": [],
   "source": []
  },
  {
   "cell_type": "code",
   "execution_count": null,
   "id": "42c7d463",
   "metadata": {
    "scrolled": false
   },
   "outputs": [],
   "source": [
    "# 7\n",
    "link_matrix_7, best_distance_7, dict_davies_bouldin_results_7, df_motifs_CLUMPs_7, dendogram_7, newick_tree_7 = motif_clustering(df_motifs_scl, 7)"
   ]
  },
  {
   "cell_type": "code",
   "execution_count": null,
   "id": "ed6d6eea",
   "metadata": {
    "scrolled": true
   },
   "outputs": [],
   "source": [
    "df_motifs_CLUMPs_7.CLUMP.unique()"
   ]
  },
  {
   "cell_type": "code",
   "execution_count": null,
   "id": "ddcae00e",
   "metadata": {},
   "outputs": [],
   "source": [
    "df_motifs_CLUMPs_7.to_csv('df_motifs_CLUMPs_7_standard_scaling.tsv')"
   ]
  },
  {
   "cell_type": "markdown",
   "id": "61875818",
   "metadata": {},
   "source": [
    "> Based on the number of CLUMPs obtained, 7 intervals of distances is the choice."
   ]
  },
  {
   "cell_type": "code",
   "execution_count": null,
   "id": "ac60347c",
   "metadata": {
    "scrolled": true
   },
   "outputs": [],
   "source": [
    "print('CLUMP 0')\n",
    "print(len(df_motifs_CLUMPs_7[df_motifs_CLUMPs_7['CLUMP'] == 0]))\n",
    "list(df_motifs_CLUMPs_7[df_motifs_CLUMPs_7['CLUMP'] == 0].motif)\n",
    "for motif in list(df_motifs_CLUMPs_7[df_motifs_CLUMPs_7['CLUMP'] == 0].motif):\n",
    "    print(motif)"
   ]
  },
  {
   "cell_type": "code",
   "execution_count": null,
   "id": "49d14c8e",
   "metadata": {
    "scrolled": false
   },
   "outputs": [],
   "source": [
    "print('CLUMP 1')\n",
    "print(len(df_motifs_CLUMPs_7[df_motifs_CLUMPs_7['CLUMP'] == 1]))\n",
    "list(df_motifs_CLUMPs_7[df_motifs_CLUMPs_7['CLUMP'] == 1].motif)"
   ]
  },
  {
   "cell_type": "code",
   "execution_count": null,
   "id": "5f759531",
   "metadata": {
    "scrolled": false
   },
   "outputs": [],
   "source": [
    "print('CLUMP 2')\n",
    "print(len(df_motifs_CLUMPs_7[df_motifs_CLUMPs_7['CLUMP'] == 2]))\n",
    "list(df_motifs_CLUMPs_7[df_motifs_CLUMPs_7['CLUMP'] == 2].motif)"
   ]
  },
  {
   "cell_type": "code",
   "execution_count": null,
   "id": "ee91285b",
   "metadata": {
    "scrolled": false
   },
   "outputs": [],
   "source": [
    "print('CLUMP 3')\n",
    "print(len(df_motifs_CLUMPs_7[df_motifs_CLUMPs_7['CLUMP'] == 3]))\n",
    "list(df_motifs_CLUMPs_7[df_motifs_CLUMPs_7['CLUMP'] == 3].motif)"
   ]
  },
  {
   "cell_type": "code",
   "execution_count": null,
   "id": "4d811154",
   "metadata": {
    "scrolled": true
   },
   "outputs": [],
   "source": [
    "print('CLUMP 4')\n",
    "print(len(df_motifs_CLUMPs_7[df_motifs_CLUMPs_7['CLUMP'] == 4]))\n",
    "list(df_motifs_CLUMPs_7[df_motifs_CLUMPs_7['CLUMP'] == 4].motif)"
   ]
  },
  {
   "cell_type": "code",
   "execution_count": null,
   "id": "370b2287",
   "metadata": {
    "scrolled": false
   },
   "outputs": [],
   "source": [
    "print('CLUMP 5')\n",
    "print(len(df_motifs_CLUMPs_7[df_motifs_CLUMPs_7['CLUMP'] == 5]))\n",
    "list(df_motifs_CLUMPs_7[df_motifs_CLUMPs_7['CLUMP'] == 5].motif)"
   ]
  },
  {
   "cell_type": "code",
   "execution_count": null,
   "id": "6b9cea1e",
   "metadata": {
    "scrolled": false
   },
   "outputs": [],
   "source": [
    "print('CLUMP 6')\n",
    "print(len(df_motifs_CLUMPs_7[df_motifs_CLUMPs_7['CLUMP'] == 6]))\n",
    "list(df_motifs_CLUMPs_7[df_motifs_CLUMPs_7['CLUMP'] == 6].motif)"
   ]
  },
  {
   "cell_type": "code",
   "execution_count": null,
   "id": "5196d794",
   "metadata": {
    "scrolled": false
   },
   "outputs": [],
   "source": [
    "print('CLUMP 7')\n",
    "print(len(df_motifs_CLUMPs_7[df_motifs_CLUMPs_7['CLUMP'] == 7]))\n",
    "list(df_motifs_CLUMPs_7[df_motifs_CLUMPs_7['CLUMP'] == 7].motif)"
   ]
  },
  {
   "cell_type": "code",
   "execution_count": null,
   "id": "4ace35aa",
   "metadata": {
    "scrolled": false
   },
   "outputs": [],
   "source": [
    "print('CLUMP 8')\n",
    "print(len(df_motifs_CLUMPs_7[df_motifs_CLUMPs_7['CLUMP'] == 8]))\n",
    "list(df_motifs_CLUMPs_7[df_motifs_CLUMPs_7['CLUMP'] == 8].motif)"
   ]
  },
  {
   "cell_type": "code",
   "execution_count": null,
   "id": "6c243fe3",
   "metadata": {
    "scrolled": false
   },
   "outputs": [],
   "source": [
    "print('CLUMP 9')\n",
    "print(len(df_motifs_CLUMPs_7[df_motifs_CLUMPs_7['CLUMP'] == 9]))\n",
    "list(df_motifs_CLUMPs_7[df_motifs_CLUMPs_7['CLUMP'] == 9].motif)"
   ]
  },
  {
   "cell_type": "code",
   "execution_count": null,
   "id": "4d88cb08",
   "metadata": {
    "scrolled": false
   },
   "outputs": [],
   "source": [
    "print('CLUMP 10')\n",
    "print(len(df_motifs_CLUMPs_7[df_motifs_CLUMPs_7['CLUMP'] == 10]))\n",
    "list(df_motifs_CLUMPs_7[df_motifs_CLUMPs_7['CLUMP'] == 10].motif)"
   ]
  },
  {
   "cell_type": "markdown",
   "id": "a0668521",
   "metadata": {},
   "source": [
    "## Other tests"
   ]
  },
  {
   "cell_type": "code",
   "execution_count": null,
   "id": "034773f6",
   "metadata": {
    "scrolled": false
   },
   "outputs": [],
   "source": [
    "# 8\n",
    "link_matrix, best_distance, dict_davies_bouldin_results, df_motifs_CLUMPs, dendogram, newick_tree = motif_clustering(df_motifs_scl, 8)"
   ]
  },
  {
   "cell_type": "code",
   "execution_count": null,
   "id": "cc6292da",
   "metadata": {
    "scrolled": true
   },
   "outputs": [],
   "source": [
    "df_motifs_CLUMPs.CLUMP.unique()"
   ]
  },
  {
   "cell_type": "code",
   "execution_count": null,
   "id": "1365f2c0",
   "metadata": {},
   "outputs": [],
   "source": []
  },
  {
   "cell_type": "code",
   "execution_count": null,
   "id": "d08c613b",
   "metadata": {
    "scrolled": false
   },
   "outputs": [],
   "source": [
    "# 9\n",
    "link_matrix, best_distance, dict_davies_bouldin_results, df_motifs_CLUMPs, dendogram, newick_tree = motif_clustering(df_motifs_scl, 9)"
   ]
  },
  {
   "cell_type": "code",
   "execution_count": null,
   "id": "3bd4d4dd",
   "metadata": {
    "scrolled": true
   },
   "outputs": [],
   "source": [
    "df_motifs_CLUMPs.CLUMP.unique()"
   ]
  },
  {
   "cell_type": "code",
   "execution_count": null,
   "id": "04a2de06",
   "metadata": {},
   "outputs": [],
   "source": []
  },
  {
   "cell_type": "code",
   "execution_count": null,
   "id": "73842a1d",
   "metadata": {
    "scrolled": false
   },
   "outputs": [],
   "source": [
    "# 10\n",
    "link_matrix, best_distance, dict_davies_bouldin_results, df_motifs_CLUMPs, dendogram, newick_tree = motif_clustering(df_motifs_scl, 10)"
   ]
  },
  {
   "cell_type": "code",
   "execution_count": null,
   "id": "c0857108",
   "metadata": {
    "scrolled": true
   },
   "outputs": [],
   "source": [
    "df_motifs_CLUMPs.CLUMP.unique()"
   ]
  },
  {
   "cell_type": "code",
   "execution_count": null,
   "id": "a80407cf",
   "metadata": {},
   "outputs": [],
   "source": []
  },
  {
   "cell_type": "code",
   "execution_count": null,
   "id": "a6e1db80",
   "metadata": {
    "scrolled": true
   },
   "outputs": [],
   "source": [
    "# 20\n",
    "link_matrix, best_distance, dict_davies_bouldin_results, df_motifs_CLUMPs, dendogram, newick_tree = motif_clustering(df_motifs_scl, 20)"
   ]
  },
  {
   "cell_type": "code",
   "execution_count": null,
   "id": "965dd487",
   "metadata": {
    "scrolled": true
   },
   "outputs": [],
   "source": [
    "df_motifs_CLUMPs.CLUMP.unique()"
   ]
  },
  {
   "cell_type": "code",
   "execution_count": null,
   "id": "f48e0b33",
   "metadata": {},
   "outputs": [],
   "source": []
  },
  {
   "cell_type": "code",
   "execution_count": null,
   "id": "0ceda8ca",
   "metadata": {
    "scrolled": false
   },
   "outputs": [],
   "source": [
    "# 30\n",
    "link_matrix, best_distance, dict_davies_bouldin_results, df_motifs_CLUMPs, dendogram, newick_tree = motif_clustering(df_motifs_scl, 30)"
   ]
  },
  {
   "cell_type": "code",
   "execution_count": null,
   "id": "8da79c93",
   "metadata": {
    "scrolled": false
   },
   "outputs": [],
   "source": [
    "df_motifs_CLUMPs.CLUMP.unique()"
   ]
  },
  {
   "cell_type": "code",
   "execution_count": null,
   "id": "c8f96ca0",
   "metadata": {},
   "outputs": [],
   "source": []
  },
  {
   "cell_type": "code",
   "execution_count": null,
   "id": "90ed09dc",
   "metadata": {
    "scrolled": true
   },
   "outputs": [],
   "source": [
    "# 35\n",
    "link_matrix, best_distance, dict_davies_bouldin_results, df_motifs_CLUMPs, dendogram, newick_tree = motif_clustering(df_motifs_scl, 35)"
   ]
  },
  {
   "cell_type": "code",
   "execution_count": null,
   "id": "e4d1c93e",
   "metadata": {
    "scrolled": true
   },
   "outputs": [],
   "source": [
    "df_motifs_CLUMPs.CLUMP.unique()"
   ]
  },
  {
   "cell_type": "code",
   "execution_count": null,
   "id": "0bd58af6",
   "metadata": {},
   "outputs": [],
   "source": []
  },
  {
   "cell_type": "code",
   "execution_count": null,
   "id": "af36736e",
   "metadata": {
    "scrolled": false
   },
   "outputs": [],
   "source": [
    "# 40\n",
    "link_matrix, best_distance, dict_davies_bouldin_results, df_motifs_CLUMPs, dendogram, newick_tree = motif_clustering(df_motifs_scl, 40)"
   ]
  },
  {
   "cell_type": "code",
   "execution_count": null,
   "id": "d8a7cbd0",
   "metadata": {
    "scrolled": true
   },
   "outputs": [],
   "source": [
    "df_motifs_CLUMPs.CLUMP.unique()"
   ]
  },
  {
   "cell_type": "code",
   "execution_count": null,
   "id": "9ed45ef7",
   "metadata": {},
   "outputs": [],
   "source": []
  },
  {
   "cell_type": "code",
   "execution_count": null,
   "id": "048be459",
   "metadata": {
    "scrolled": false
   },
   "outputs": [],
   "source": [
    "# 41\n",
    "link_matrix, best_distance, dict_davies_bouldin_results, df_motifs_CLUMPs, dendogram, newick_tree = motif_clustering(df_motifs_scl, 41)"
   ]
  },
  {
   "cell_type": "code",
   "execution_count": null,
   "id": "3729b457",
   "metadata": {},
   "outputs": [],
   "source": [
    "df_motifs_CLUMPs.CLUMP.unique()"
   ]
  },
  {
   "cell_type": "code",
   "execution_count": null,
   "id": "179125d8",
   "metadata": {},
   "outputs": [],
   "source": []
  },
  {
   "cell_type": "code",
   "execution_count": null,
   "id": "f5b0d251",
   "metadata": {
    "scrolled": false
   },
   "outputs": [],
   "source": [
    "# 45\n",
    "link_matrix, best_distance, dict_davies_bouldin_results, df_motifs_CLUMPs, dendogram, newick_tree = motif_clustering(df_motifs_scl, 45)"
   ]
  },
  {
   "cell_type": "code",
   "execution_count": null,
   "id": "5e48c43e",
   "metadata": {},
   "outputs": [],
   "source": [
    "df_motifs_CLUMPs.CLUMP.unique()"
   ]
  },
  {
   "cell_type": "code",
   "execution_count": null,
   "id": "105ef0cf",
   "metadata": {},
   "outputs": [],
   "source": []
  },
  {
   "cell_type": "code",
   "execution_count": null,
   "id": "cf935577",
   "metadata": {
    "scrolled": false
   },
   "outputs": [],
   "source": [
    "# 50\n",
    "link_matrix, best_distance, dict_davies_bouldin_results, df_motifs_CLUMPs, dendogram, newick_tree = motif_clustering(df_motifs_scl, 50)"
   ]
  },
  {
   "cell_type": "code",
   "execution_count": null,
   "id": "ee96e23e",
   "metadata": {},
   "outputs": [],
   "source": [
    "df_motifs_CLUMPs.CLUMP.unique()"
   ]
  },
  {
   "cell_type": "code",
   "execution_count": null,
   "id": "a21c3dad",
   "metadata": {},
   "outputs": [],
   "source": []
  },
  {
   "cell_type": "code",
   "execution_count": null,
   "id": "7f508069",
   "metadata": {
    "scrolled": false
   },
   "outputs": [],
   "source": [
    "# 100\n",
    "link_matrix, best_distance, dict_davies_bouldin_results, df_motifs_CLUMPs, dendogram, newick_tree = motif_clustering(df_motifs_scl, 100)"
   ]
  },
  {
   "cell_type": "code",
   "execution_count": null,
   "id": "263745f8",
   "metadata": {
    "scrolled": true
   },
   "outputs": [],
   "source": [
    "df_motifs_CLUMPs.CLUMP.unique()"
   ]
  },
  {
   "cell_type": "code",
   "execution_count": null,
   "id": "b64dd282",
   "metadata": {},
   "outputs": [],
   "source": []
  },
  {
   "cell_type": "code",
   "execution_count": null,
   "id": "10673a93",
   "metadata": {
    "scrolled": true
   },
   "outputs": [],
   "source": [
    "# 500\n",
    "link_matrix, best_distance, dict_davies_bouldin_results, df_motifs_CLUMPs, dendogram, newick_tree = motif_clustering(df_motifs_scl, 500)"
   ]
  },
  {
   "cell_type": "code",
   "execution_count": null,
   "id": "ceed330f",
   "metadata": {},
   "outputs": [],
   "source": [
    "df_motifs_CLUMPs.CLUMP.unique()"
   ]
  },
  {
   "cell_type": "code",
   "execution_count": null,
   "id": "c56c44ce",
   "metadata": {},
   "outputs": [],
   "source": []
  },
  {
   "cell_type": "code",
   "execution_count": null,
   "id": "f7c4226d",
   "metadata": {
    "scrolled": true
   },
   "outputs": [],
   "source": [
    "# 1000\n",
    "link_matrix, best_distance, dict_davies_bouldin_results, df_motifs_CLUMPs, dendogram, newick_tree = motif_clustering(df_motifs_scl, 1000)"
   ]
  },
  {
   "cell_type": "code",
   "execution_count": null,
   "id": "b2c5b447",
   "metadata": {},
   "outputs": [],
   "source": [
    "df_motifs_CLUMPs.CLUMP.unique()"
   ]
  }
 ],
 "metadata": {
  "kernelspec": {
   "display_name": "Python 3 (ipykernel)",
   "language": "python",
   "name": "python3"
  },
  "language_info": {
   "codemirror_mode": {
    "name": "ipython",
    "version": 3
   },
   "file_extension": ".py",
   "mimetype": "text/x-python",
   "name": "python",
   "nbconvert_exporter": "python",
   "pygments_lexer": "ipython3",
   "version": "3.10.4"
  },
  "toc": {
   "base_numbering": 1,
   "nav_menu": {},
   "number_sections": true,
   "sideBar": true,
   "skip_h1_title": false,
   "title_cell": "Table of Contents",
   "title_sidebar": "Contents",
   "toc_cell": false,
   "toc_position": {
    "height": "calc(100% - 180px)",
    "left": "10px",
    "top": "150px",
    "width": "230.39999389648438px"
   },
   "toc_section_display": true,
   "toc_window_display": true
  }
 },
 "nbformat": 4,
 "nbformat_minor": 5
}
